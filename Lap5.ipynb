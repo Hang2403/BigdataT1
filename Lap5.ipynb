{
 "cells": [
  {
   "cell_type": "code",
   "execution_count": 9,
   "id": "121eb0d3-c09d-4dce-87be-939998a2cbeb",
   "metadata": {},
   "outputs": [],
   "source": [
    "from bloom_filter  import BloomFilter\n",
    "import nltk"
   ]
  },
  {
   "cell_type": "code",
   "execution_count": 7,
   "id": "ed963bcd-0104-4ee6-836e-28bc0dc33b90",
   "metadata": {},
   "outputs": [
    {
     "name": "stderr",
     "output_type": "stream",
     "text": [
      "[nltk_data] Downloading package words to /home/hang/nltk_data...\n",
      "[nltk_data]   Package words is already up-to-date!\n"
     ]
    },
    {
     "data": {
      "text/plain": [
       "True"
      ]
     },
     "execution_count": 7,
     "metadata": {},
     "output_type": "execute_result"
    }
   ],
   "source": [
    "nltk.download('words')"
   ]
  },
  {
   "cell_type": "code",
   "execution_count": 27,
   "id": "e834062c-13c0-440e-af57-76242284d9b9",
   "metadata": {},
   "outputs": [],
   "source": [
    "'/home/hang/wordcount.txt'==\"bloom.txt\"\n",
    "with open('/home/hang/wordcount.txt', 'r') as file:\n",
    "    text = file.read()"
   ]
  },
  {
   "cell_type": "code",
   "execution_count": 28,
   "id": "820e981e-7cab-4152-ba1e-e1365f997548",
   "metadata": {},
   "outputs": [],
   "source": [
    "words = nltk.word_tokenize(text)"
   ]
  },
  {
   "cell_type": "code",
   "execution_count": 32,
   "id": "2b3f0c1a-c2dd-48b8-89c6-37148f05adf3",
   "metadata": {},
   "outputs": [],
   "source": [
    "bloom_filter = BloomFilter(max_elements=10000, error_rate=0.1)"
   ]
  },
  {
   "cell_type": "code",
   "execution_count": 34,
   "id": "853d20a8-7711-4445-a6ff-3dd500539ec5",
   "metadata": {},
   "outputs": [],
   "source": [
    " bloom_filter.add('Hi')"
   ]
  },
  {
   "cell_type": "code",
   "execution_count": 37,
   "id": "7670cbd2-6e92-4f11-ad97-6628af2c47cf",
   "metadata": {},
   "outputs": [],
   "source": [
    "words_to_check = [\"of\", \"example\", \"some\", \"Hi\", \"to\", \"check\"]"
   ]
  },
  {
   "cell_type": "code",
   "execution_count": 38,
   "id": "2d151813-8b9f-4b81-b081-402f05ee6a58",
   "metadata": {},
   "outputs": [
    {
     "name": "stdout",
     "output_type": "stream",
     "text": [
      "Từ 'of' Không có trong văn bản.\n",
      "Từ 'example' Không có trong văn bản.\n",
      "Từ 'some' Không có trong văn bản.\n",
      "Từ 'Hi' Có trong văn bản.\n",
      "Từ 'to' Không có trong văn bản.\n",
      "Từ 'check' Không có trong văn bản.\n"
     ]
    }
   ],
   "source": [
    "for check in words_to_check:\n",
    "    if check in bloom_filter:\n",
    "        print(f\"Từ '{check}' Có trong văn bản.\")\n",
    "    else:\n",
    "        print(f\"Từ '{check}' Không có trong văn bản.\")"
   ]
  },
  {
   "cell_type": "code",
   "execution_count": null,
   "id": "7c2ccd6f-365a-4f20-9ed7-529528d165f8",
   "metadata": {},
   "outputs": [],
   "source": []
  }
 ],
 "metadata": {
  "kernelspec": {
   "display_name": "Python 3 (ipykernel)",
   "language": "python",
   "name": "python3"
  },
  "language_info": {
   "codemirror_mode": {
    "name": "ipython",
    "version": 3
   },
   "file_extension": ".py",
   "mimetype": "text/x-python",
   "name": "python",
   "nbconvert_exporter": "python",
   "pygments_lexer": "ipython3",
   "version": "3.10.12"
  }
 },
 "nbformat": 4,
 "nbformat_minor": 5
}
