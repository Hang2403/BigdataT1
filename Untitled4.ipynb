{
 "cells": [
  {
   "cell_type": "code",
   "execution_count": 17,
   "id": "b11625bb-b6f6-4855-a079-d127f0b4193d",
   "metadata": {},
   "outputs": [
    {
     "name": "stdout",
     "output_type": "stream",
     "text": [
      "['/home/hang/stopwords.txt']\n"
     ]
    }
   ],
   "source": [
    "from nltk.tokenize import sent_tokenize, word_tokenize\n",
    "from nltk.corpus import stopwords\n",
    "\n",
    "data = '/home/hang/stopwords.txt'\n",
    "stopWords = set(stopwords.words('english'))\n",
    "words = word_tokenize(data)\n",
    "wordsFiltered = [a for a in words if a not in stopWords]\n",
    "\n",
    "print(wordsFiltered)"
   ]
  },
  {
   "cell_type": "code",
   "execution_count": 18,
   "id": "a60b3b4f-1a73-4b3c-a746-a5cb8109bb2e",
   "metadata": {},
   "outputs": [
    {
     "name": "stdout",
     "output_type": "stream",
     "text": [
      "Defaulting to user installation because normal site-packages is not writeable\n",
      "Collecting gensim\n",
      "  Downloading gensim-4.3.2-cp310-cp310-manylinux_2_17_x86_64.manylinux2014_x86_64.whl (26.5 MB)\n",
      "\u001b[2K     \u001b[38;2;114;156;31m━━━━━━━━━━━━━━━━━━━━━━━━━━━━━━━━━━━━━━━\u001b[0m \u001b[32m26.5/26.5 MB\u001b[0m \u001b[31m945.1 kB/s\u001b[0m eta \u001b[36m0:00:00\u001b[0mm eta \u001b[36m0:00:01\u001b[0m36m0:00:01\u001b[0mm\n",
      "\u001b[?25hCollecting scipy>=1.7.0\n",
      "  Downloading scipy-1.11.3-cp310-cp310-manylinux_2_17_x86_64.manylinux2014_x86_64.whl (36.4 MB)\n",
      "\u001b[2K     \u001b[38;2;114;156;31m━━━━━━━━━━━━━━━━━━━━━━━━━━━━━━━━━━━━━━━━\u001b[0m \u001b[32m36.4/36.4 MB\u001b[0m \u001b[31m1.0 MB/s\u001b[0m eta \u001b[36m0:00:00\u001b[0mm eta \u001b[36m0:00:01\u001b[0m[36m0:00:01\u001b[0mm\n",
      "\u001b[?25hCollecting smart-open>=1.8.1\n",
      "  Downloading smart_open-6.4.0-py3-none-any.whl (57 kB)\n",
      "\u001b[2K     \u001b[38;2;114;156;31m━━━━━━━━━━━━━━━━━━━━━━━━━━━━━━━━━━━━━━━━\u001b[0m \u001b[32m57.0/57.0 KB\u001b[0m \u001b[31m2.4 MB/s\u001b[0m eta \u001b[36m0:00:00\u001b[0m\n",
      "\u001b[?25hCollecting numpy>=1.18.5\n",
      "  Downloading numpy-1.26.2-cp310-cp310-manylinux_2_17_x86_64.manylinux2014_x86_64.whl (18.2 MB)\n",
      "\u001b[2K     \u001b[38;2;114;156;31m━━━━━━━━━━━━━━━━━━━━━━━━━━━━━━━━━━━━━━━━\u001b[0m \u001b[32m18.2/18.2 MB\u001b[0m \u001b[31m1.3 MB/s\u001b[0m eta \u001b[36m0:00:00\u001b[0mm eta \u001b[36m0:00:01\u001b[0m[36m0:00:01\u001b[0mm\n",
      "\u001b[?25hInstalling collected packages: smart-open, numpy, scipy, gensim\n",
      "Successfully installed gensim-4.3.2 numpy-1.26.2 scipy-1.11.3 smart-open-6.4.0\n",
      "Note: you may need to restart the kernel to use updated packages.\n"
     ]
    }
   ],
   "source": [
    "pip install gensim"
   ]
  },
  {
   "cell_type": "code",
   "execution_count": 19,
   "id": "93fb3077-9c9d-43dc-bf58-59d269df9377",
   "metadata": {},
   "outputs": [
    {
     "name": "stderr",
     "output_type": "stream",
     "text": [
      "[nltk_data] Downloading package stopwords to /home/hang/nltk_data...\n",
      "[nltk_data]   Package stopwords is already up-to-date!\n"
     ]
    }
   ],
   "source": [
    "import string\n",
    "import nltk\n",
    "nltk.download('stopwords')\n",
    "from nltk.corpus import stopwords"
   ]
  },
  {
   "cell_type": "code",
   "execution_count": 68,
   "id": "0fb9958a-3726-48ab-afa9-c566f3bfc6d4",
   "metadata": {},
   "outputs": [],
   "source": [
    "test_str='When a block stores new data it is added to the blockchain. Blockchain, as its name suggests, consists of multiple blocks strung together. In order for a block to be added to the blockchain, however, four things must happen'"
   ]
  },
  {
   "cell_type": "code",
   "execution_count": 25,
   "id": "bb0e882c-c378-464f-ae41-1c2aebc6fb20",
   "metadata": {},
   "outputs": [
    {
     "name": "stdout",
     "output_type": "stream",
     "text": [
      "<class 'list'>\n",
      "['#', '#  stopwords.txt', '#', '#  Freely available stopword list, balancing coverage and size.', '#', '#  From http://www.lextek.com/manuals/onix/stopwords1.html', 'a', 'about', 'above', 'across', 'after', 'again', 'against', 'all', 'almost', 'alone', 'along', 'already', 'also', 'although', 'always', 'among', 'an', 'and', 'another', 'any', 'anybody', 'anyone', 'anything', 'anywhere', 'are', 'area', 'areas', 'around', 'as', 'ask', 'asked', 'asking', 'asks', 'at', 'away', 'b', 'back', 'backed', 'backing', 'backs', 'be', 'became', 'because', 'become', 'becomes', 'been', 'before', 'began', 'behind', 'being', 'beings', 'best', 'better', 'between', 'big', 'both', 'but', 'by', 'c', 'came', 'can', 'cannot', 'case', 'cases', 'certain', 'certainly', 'clear', 'clearly', 'come', 'could', 'd', 'did', 'differ', 'different', 'differently', 'do', 'does', 'done', 'down', 'down', 'downed', 'downing', 'downs', 'during', 'e', 'each', 'early', 'either', 'end', 'ended', 'ending', 'ends', 'enough', 'even', 'evenly', 'ever', 'every', 'everybody', 'everyone', 'everything', 'everywhere', 'f', 'face', 'faces', 'fact', 'facts', 'far', 'felt', 'few', 'find', 'finds', 'first', 'for', 'four', 'from', 'full', 'fully', 'further', 'furthered', 'furthering', 'furthers', 'g', 'gave', 'general', 'generally', 'get', 'gets', 'give', 'given', 'gives', 'go', 'going', 'good', 'goods', 'got', 'great', 'greater', 'greatest', 'group', 'grouped', 'grouping', 'groups', 'h', 'had', 'has', 'have', 'having', 'he', 'her', 'here', 'herself', 'high', 'high', 'high', 'higher', 'highest', 'him', 'himself', 'his', 'how', 'however', 'i', 'if', 'important', 'in', 'interest', 'interested', 'interesting', 'interests', 'into', 'is', 'it', 'its', 'itself', 'j', 'just', 'k', 'keep', 'keeps', 'kind', 'knew', 'know', 'known', 'knows', 'l', 'large', 'largely', 'last', 'later', 'latest', 'least', 'less', 'let', 'lets', 'like', 'likely', 'long', 'longer', 'longest', 'm', 'made', 'make', 'making', 'man', 'many', 'may', 'me', 'member', 'members', 'men', 'might', 'more', 'most', 'mostly', 'mr', 'mrs', 'much', 'must', 'my', 'myself', 'n', 'necessary', 'need', 'needed', 'needing', 'needs', 'never', 'new', 'new', 'newer', 'newest', 'next', 'no', 'nobody', 'non', 'noone', 'not', 'nothing', 'now', 'nowhere', 'number', 'numbers', 'o', 'of', 'off', 'often', 'old', 'older', 'oldest', 'on', 'once', 'one', 'only', 'open', 'opened', 'opening', 'opens', 'or', 'order', 'ordered', 'ordering', 'orders', 'other', 'others', 'our', 'out', 'over', 'p', 'part', 'parted', 'parting', 'parts', 'per', 'perhaps', 'place', 'places', 'point', 'pointed', 'pointing', 'points', 'possible', 'present', 'presented', 'presenting', 'presents', 'problem', 'problems', 'put', 'puts', 'q', 'quite', 'r', 'rather', 'really', 'right', 'right', 'room', 'rooms', 's', 'said', 'same', 'saw', 'say', 'says', 'second', 'seconds', 'see', 'seem', 'seemed', 'seeming', 'seems', 'sees', 'several', 'shall', 'she', 'should', 'show', 'showed', 'showing', 'shows', 'side', 'sides', 'since', 'small', 'smaller', 'smallest', 'so', 'some', 'somebody', 'someone', 'something', 'somewhere', 'state', 'states', 'still', 'still', 'such', 'sure', 't', 'take', 'taken', 'than', 'that', 'the', 'their', 'them', 'then', 'there', 'therefore', 'these', 'they', 'thing', 'things', 'think', 'thinks', 'this', 'those', 'though', 'thought', 'thoughts', 'three', 'through', 'thus', 'to', 'today', 'together', 'too', 'took', 'toward', 'turn', 'turned', 'turning', 'turns', 'two', 'u', 'under', 'until', 'up', 'upon', 'us', 'use', 'used', 'uses', 'v', 'very', 'w', 'want', 'wanted', 'wanting', 'wants', 'was', 'way', 'ways', 'we', 'well', 'wells', 'went', 'were', 'what', 'when', 'where', 'whether', 'which', 'while', 'who', 'whole', 'whose', 'why', 'will', 'with', 'within', 'without', 'work', 'worked', 'working', 'works', 'would', 'x', 'y', 'year', 'years', 'yet', 'you', 'young', 'younger', 'youngest', 'your', 'yours', 'z']\n"
     ]
    }
   ],
   "source": [
    "stop_words= stopwords.words('/home/hang')\n",
    "print(f'{type(stop_words)}\\n{stop_words}')"
   ]
  },
  {
   "cell_type": "code",
   "execution_count": 32,
   "id": "adeeec73-6605-46fb-9beb-287a73070b7e",
   "metadata": {},
   "outputs": [
    {
     "data": {
      "text/plain": [
       "['When',\n",
       " 'block',\n",
       " 'stores',\n",
       " 'data',\n",
       " 'added',\n",
       " 'blockchain.',\n",
       " 'Blockchain,',\n",
       " 'name',\n",
       " 'suggests,',\n",
       " 'consists',\n",
       " 'multiple',\n",
       " 'blocks',\n",
       " 'strung',\n",
       " 'together.',\n",
       " 'In',\n",
       " 'block',\n",
       " 'added',\n",
       " 'blockchain,',\n",
       " 'however,',\n",
       " 'happen']"
      ]
     },
     "execution_count": 32,
     "metadata": {},
     "output_type": "execute_result"
    }
   ],
   "source": [
    "[word for word in test_str.split() if word not in stop_words]"
   ]
  },
  {
   "cell_type": "code",
   "execution_count": 62,
   "id": "d82b174f-b2f8-4f35-9ad6-8fac38130ad4",
   "metadata": {},
   "outputs": [],
   "source": [
    "poem='''\n",
    "Once upon a midnight dreary, while I pondered, weak and weary,\n",
    "Over many a quaint and curious volume of forgotten lore—\n",
    "    While I nodded, nearly napping, suddenly there came a tapping,\n",
    "As of some one gently rapping, rapping at my chamber door.\n",
    "“’Tis some visitor,” I muttered, “tapping at my chamber door—\n",
    "            Only this and nothing more.”\n",
    "\n",
    "    Ah, distinctly I remember it was in the bleak December;\n",
    "And each separate dying ember wrought its ghost upon the floor.\n",
    "    Eagerly I wished the morrow;—vainly I had sought to borrow\n",
    "    From my books surcease of sorrow—sorrow for the lost Lenore—\n",
    "For the rare and radiant maiden whom the angels name Lenore—\n",
    "            Nameless here for evermore.\n",
    "\n",
    "    And the silken, sad, uncertain rustling of each purple curtain\n",
    "Thrilled me—filled me with fantastic terrors never felt before;\n",
    "    So that now, to still the beating of my heart, I stood repeating\n",
    "    “’Tis some visitor entreating entrance at my chamber door—\n",
    "Some late visitor entreating entrance at my chamber door;—\n",
    "            This it is and nothing more.”\n",
    "\n",
    "    Presently my soul grew stronger; hesitating then no longer,\n",
    "“Sir,” said I, “or Madam, truly your forgiveness I implore;\n",
    "    But the fact is I was napping, and so gently you came rapping,\n",
    "    And so faintly you came tapping, tapping at my chamber door,\n",
    "That I scarce was sure I heard you”—here I opened wide the door;—\n",
    "            Darkness there and nothing more.\n",
    "\n",
    "    Deep into that darkness peering, long I stood there wondering, fearing,\n",
    "Doubting, dreaming dreams no mortal ever dared to dream before;\n",
    "    But the silence was unbroken, and the stillness gave no token,\n",
    "    And the only word there spoken was the whispered word, “Lenore?”\n",
    "This I whispered, and an echo murmured back the word, “Lenore!”—\n",
    "            Merely this and nothing more.\n",
    "\n",
    "    Back into the chamber turning, all my soul within me burning,\n",
    "Soon again I heard a tapping somewhat louder than before.\n",
    "    “Surely,” said I, “surely that is something at my window lattice;\n",
    "      Let me see, then, what thereat is, and this mystery explore—\n",
    "Let my heart be still a moment and this mystery explore;—\n",
    "            ’Tis the wind and nothing more!”\n",
    "\n",
    "    Open here I flung the shutter, when, with many a flirt and flutter,\n",
    "In there stepped a stately Raven of the saintly days of yore;\n",
    "    Not the least obeisance made he; not a minute stopped or stayed he;\n",
    "    But, with mien of lord or lady, perched above my chamber door—\n",
    "Perched upon a bust of Pallas just above my chamber door—\n",
    "            Perched, and sat, and nothing more.\n",
    "\n",
    "Then this ebony bird beguiling my sad fancy into smiling,\n",
    "By the grave and stern decorum of the countenance it wore,\n",
    "“Though thy crest be shorn and shaven, thou,” I said, “art sure no craven,\n",
    "Ghastly grim and ancient Raven wandering from the Nightly shore—\n",
    "Tell me what thy lordly name is on the Night’s Plutonian shore!”\n",
    "            Quoth the Raven “Nevermore.”\n",
    "\n",
    "    Much I marvelled this ungainly fowl to hear discourse so plainly,\n",
    "Though its answer little meaning—little relevancy bore;\n",
    "    For we cannot help agreeing that no living human being\n",
    "    Ever yet was blessed with seeing bird above his chamber door—\n",
    "Bird or beast upon the sculptured bust above his chamber door,\n",
    "            With such name as “Nevermore.”\n",
    "\n",
    "    But the Raven, sitting lonely on the placid bust, spoke only\n",
    "That one word, as if his soul in that one word he did outpour.\n",
    "    Nothing farther then he uttered—not a feather then he fluttered—\n",
    "    Till I scarcely more than muttered “Other friends have flown before—\n",
    "On the morrow he will leave me, as my Hopes have flown before.”\n",
    "            Then the bird said “Nevermore.”\n",
    "\n",
    "    Startled at the stillness broken by reply so aptly spoken,\n",
    "“Doubtless,” said I, “what it utters is its only stock and store\n",
    "    Caught from some unhappy master whom unmerciful Disaster\n",
    "    Followed fast and followed faster till his songs one burden bore—\n",
    "Till the dirges of his Hope that melancholy burden bore\n",
    "            Of ‘Never—nevermore’.”\n",
    "\n",
    "    But the Raven still beguiling all my fancy into smiling,\n",
    "Straight I wheeled a cushioned seat in front of bird, and bust and door;\n",
    "    Then, upon the velvet sinking, I betook myself to linking\n",
    "    Fancy unto fancy, thinking what this ominous bird of yore—\n",
    "What this grim, ungainly, ghastly, gaunt, and ominous bird of yore\n",
    "            Meant in croaking “Nevermore.”\n",
    "\n",
    "    This I sat engaged in guessing, but no syllable expressing\n",
    "To the fowl whose fiery eyes now burned into my bosom’s core;\n",
    "    This and more I sat divining, with my head at ease reclining\n",
    "    On the cushion’s velvet lining that the lamp-light gloated o’er,\n",
    "But whose velvet-violet lining with the lamp-light gloating o’er,\n",
    "            She shall press, ah, nevermore!\n",
    "\n",
    "    Then, methought, the air grew denser, perfumed from an unseen censer\n",
    "Swung by Seraphim whose foot-falls tinkled on the tufted floor.\n",
    "    “Wretch,” I cried, “thy God hath lent thee—by these angels he hath sent thee\n",
    "    Respite—respite and nepenthe from thy memories of Lenore;\n",
    "Quaff, oh quaff this kind nepenthe and forget this lost Lenore!”\n",
    "            Quoth the Raven “Nevermore.”\n",
    "\n",
    "    “Prophet!” said I, “thing of evil!—prophet still, if bird or devil!—\n",
    "Whether Tempter sent, or whether tempest tossed thee here ashore,\n",
    "    Desolate yet all undaunted, on this desert land enchanted—\n",
    "    On this home by Horror haunted—tell me truly, I implore—\n",
    "Is there—is there balm in Gilead?—tell me—tell me, I implore!”\n",
    "            Quoth the Raven “Nevermore.”\n",
    "\n",
    "    “Prophet!” said I, “thing of evil!—prophet still, if bird or devil!\n",
    "By that Heaven that bends above us—by that God we both adore—\n",
    "    Tell this soul with sorrow laden if, within the distant Aidenn,\n",
    "    It shall clasp a sainted maiden whom the angels name Lenore—\n",
    "Clasp a rare and radiant maiden whom the angels name Lenore.”\n",
    "            Quoth the Raven “Nevermore.”\n",
    "\n",
    "    “Be that word our sign of parting, bird or fiend!” I shrieked, upstarting—\n",
    "“Get thee back into the tempest and the Night’s Plutonian shore!\n",
    "    Leave no black plume as a token of that lie thy soul hath spoken!\n",
    "    Leave my loneliness unbroken!—quit the bust above my door!\n",
    "Take thy beak from out my heart, and take thy form from off my door!”\n",
    "            Quoth the Raven “Nevermore.”\n",
    "\n",
    "    And the Raven, never flitting, still is sitting, still is sitting\n",
    "On the pallid bust of Pallas just above my chamber door;\n",
    "    And his eyes have all the seeming of a demon’s that is dreaming,\n",
    "    And the lamp-light o’er him streaming throws his shadow on the floor;\n",
    "And my soul from out that shadow that lies floating on the floor\n",
    "            Shall be lifted—nevermore!\n",
    "'''"
   ]
  },
  {
   "cell_type": "code",
   "execution_count": 63,
   "id": "9cd8fd78-ed27-4c68-8406-9b2a5d2ebeb0",
   "metadata": {},
   "outputs": [
    {
     "data": {
      "text/plain": [
       "'\\nOnce upon a midnight dreary, while I pondered, weak and weary,\\nOver many a quaint and curious volume of forgotten lore—\\n    While I nodded, nearly napping, suddenly there came a tapping,\\nAs of some one gently rapping, rapping at my chamber door.\\n“’Tis some visitor,” I muttered, “tapping at my chamber door—\\n            Only this and nothing more.”\\n\\n    Ah, distinctly I remember it was in the bleak December;\\nAnd each separate dying ember wrought its ghost upon the floor.\\n    Eagerly I wished the morrow;—vainly I had sought to borrow\\n    From my books surcease of sorrow—sorrow for the lost Lenore—\\nFor the rare and radiant maiden whom the angels name Lenore—\\n            Nameless here for evermore.\\n\\n    And the silken, sad, uncertain rustling of each purple curtain\\nThrilled me—filled me with fantastic terrors never felt before;\\n    So that now, to still the beating of my heart, I stood repeating\\n    “’Tis some visitor entreating entrance at my chamber door—\\nSome late visitor entreating entrance at my chamber door;—\\n            This it is and nothing more.”\\n\\n    Presently my soul grew stronger; hesitating then no longer,\\n“Sir,” said I, “or Madam, truly your forgiveness I implore;\\n    But the fact is I was napping, and so gently you came rapping,\\n    And so faintly you came tapping, tapping at my chamber door,\\nThat I scarce was sure I heard you”—here I opened wide the door;—\\n            Darkness there and nothing more.\\n\\n    Deep into that darkness peering, long I stood there wondering, fearing,\\nDoubting, dreaming dreams no mortal ever dared to dream before;\\n    But the silence was unbroken, and the stillness gave no token,\\n    And the only word there spoken was the whispered word, “Lenore?”\\nThis I whispered, and an echo murmured back the word, “Lenore!”—\\n            Merely this and nothing more.\\n\\n    Back into the chamber turning, all my soul within me burning,\\nSoon again I heard a tapping somewhat louder than before.\\n    “Surely,” said I, “surely that is something at my window lattice;\\n      Let me see, then, what thereat is, and this mystery explore—\\nLet my heart be still a moment and this mystery explore;—\\n            ’Tis the wind and nothing more!”\\n\\n    Open here I flung the shutter, when, with many a flirt and flutter,\\nIn there stepped a stately Raven of the saintly days of yore;\\n    Not the least obeisance made he; not a minute stopped or stayed he;\\n    But, with mien of lord or lady, perched above my chamber door—\\nPerched upon a bust of Pallas just above my chamber door—\\n            Perched, and sat, and nothing more.\\n\\nThen this ebony bird beguiling my sad fancy into smiling,\\nBy the grave and stern decorum of the countenance it wore,\\n“Though thy crest be shorn and shaven, thou,” I said, “art sure no craven,\\nGhastly grim and ancient Raven wandering from the Nightly shore—\\nTell me what thy lordly name is on the Night’s Plutonian shore!”\\n            Quoth the Raven “Nevermore.”\\n\\n    Much I marvelled this ungainly fowl to hear discourse so plainly,\\nThough its answer little meaning—little relevancy bore;\\n    For we cannot help agreeing that no living human being\\n    Ever yet was blessed with seeing bird above his chamber door—\\nBird or beast upon the sculptured bust above his chamber door,\\n            With such name as “Nevermore.”\\n\\n    But the Raven, sitting lonely on the placid bust, spoke only\\nThat one word, as if his soul in that one word he did outpour.\\n    Nothing farther then he uttered—not a feather then he fluttered—\\n    Till I scarcely more than muttered “Other friends have flown before—\\nOn the morrow he will leave me, as my Hopes have flown before.”\\n            Then the bird said “Nevermore.”\\n\\n    Startled at the stillness broken by reply so aptly spoken,\\n“Doubtless,” said I, “what it utters is its only stock and store\\n    Caught from some unhappy master whom unmerciful Disaster\\n    Followed fast and followed faster till his songs one burden bore—\\nTill the dirges of his Hope that melancholy burden bore\\n            Of ‘Never—nevermore’.”\\n\\n    But the Raven still beguiling all my fancy into smiling,\\nStraight I wheeled a cushioned seat in front of bird, and bust and door;\\n    Then, upon the velvet sinking, I betook myself to linking\\n    Fancy unto fancy, thinking what this ominous bird of yore—\\nWhat this grim, ungainly, ghastly, gaunt, and ominous bird of yore\\n            Meant in croaking “Nevermore.”\\n\\n    This I sat engaged in guessing, but no syllable expressing\\nTo the fowl whose fiery eyes now burned into my bosom’s core;\\n    This and more I sat divining, with my head at ease reclining\\n    On the cushion’s velvet lining that the lamp-light gloated o’er,\\nBut whose velvet-violet lining with the lamp-light gloating o’er,\\n            She shall press, ah, nevermore!\\n\\n    Then, methought, the air grew denser, perfumed from an unseen censer\\nSwung by Seraphim whose foot-falls tinkled on the tufted floor.\\n    “Wretch,” I cried, “thy God hath lent thee—by these angels he hath sent thee\\n    Respite—respite and nepenthe from thy memories of Lenore;\\nQuaff, oh quaff this kind nepenthe and forget this lost Lenore!”\\n            Quoth the Raven “Nevermore.”\\n\\n    “Prophet!” said I, “thing of evil!—prophet still, if bird or devil!—\\nWhether Tempter sent, or whether tempest tossed thee here ashore,\\n    Desolate yet all undaunted, on this desert land enchanted—\\n    On this home by Horror haunted—tell me truly, I implore—\\nIs there—is there balm in Gilead?—tell me—tell me, I implore!”\\n            Quoth the Raven “Nevermore.”\\n\\n    “Prophet!” said I, “thing of evil!—prophet still, if bird or devil!\\nBy that Heaven that bends above us—by that God we both adore—\\n    Tell this soul with sorrow laden if, within the distant Aidenn,\\n    It shall clasp a sainted maiden whom the angels name Lenore—\\nClasp a rare and radiant maiden whom the angels name Lenore.”\\n            Quoth the Raven “Nevermore.”\\n\\n    “Be that word our sign of parting, bird or fiend!” I shrieked, upstarting—\\n“Get thee back into the tempest and the Night’s Plutonian shore!\\n    Leave no black plume as a token of that lie thy soul hath spoken!\\n    Leave my loneliness unbroken!—quit the bust above my door!\\nTake thy beak from out my heart, and take thy form from off my door!”\\n            Quoth the Raven “Nevermore.”\\n\\n    And the Raven, never flitting, still is sitting, still is sitting\\nOn the pallid bust of Pallas just above my chamber door;\\n    And his eyes have all the seeming of a demon’s that is dreaming,\\n    And the lamp-light o’er him streaming throws his shadow on the floor;\\nAnd my soul from out that shadow that lies floating on the floor\\n            Shall be lifted—nevermore!\\n'"
      ]
     },
     "execution_count": 63,
     "metadata": {},
     "output_type": "execute_result"
    }
   ],
   "source": [
    "poem\n"
   ]
  },
  {
   "cell_type": "code",
   "execution_count": 33,
   "id": "998e0ae2-c8b7-4c97-888b-7c02c2cc81b7",
   "metadata": {},
   "outputs": [
    {
     "name": "stdout",
     "output_type": "stream",
     "text": [
      "<class 'str'> \n",
      " !\"#$%&'()*+,-./:;<=>?@[\\]^_`{|}~\n"
     ]
    }
   ],
   "source": [
    "print(type(string.punctuation),'\\n',string.punctuation)"
   ]
  },
  {
   "cell_type": "code",
   "execution_count": 34,
   "id": "c6878eba-9444-4e22-8181-6b1dcf226a97",
   "metadata": {},
   "outputs": [],
   "source": [
    "string.punctuation +='\"\"-'"
   ]
  },
  {
   "cell_type": "code",
   "execution_count": 65,
   "id": "b3768316-ec75-4cc2-b74c-e80c5a06e7a8",
   "metadata": {},
   "outputs": [],
   "source": [
    "def stop_word_removal(text, stop_word_corpus, punct_str):\n",
    "    clean_text = ' '.join([word.lower() for word in text.split() if word.lower()\n",
    "                 not in stop_word_corpus]).replace('\\n',' ')\n",
    "    return clean_text.translate(str.maketrans('', '', punct_str))"
   ]
  },
  {
   "cell_type": "code",
   "execution_count": 67,
   "id": "815f4367-9ee0-4cc8-85ad-97866fd9731a",
   "metadata": {},
   "outputs": [
    {
     "data": {
      "text/plain": [
       "'midnight dreary pondered weak weary quaint curious volume forgotten lore— nodded nearly napping suddenly tapping gently rapping rapping chamber door “’tis visitor” muttered “tapping chamber door— more” ah distinctly remember bleak december separate dying ember wrought ghost floor eagerly wished morrow—vainly sought borrow books surcease sorrow—sorrow lost lenore— rare radiant maiden whom angels name lenore— nameless evermore silken sad uncertain rustling purple curtain thrilled me—filled fantastic terrors before now beating heart stood repeating “’tis visitor entreating entrance chamber door— late visitor entreating entrance chamber door— more” presently soul grew stronger hesitating longer “sir” i “or madam truly forgiveness implore napping gently rapping faintly tapping tapping chamber door scarce heard you”—here wide door— darkness more deep darkness peering stood wondering fearing doubting dreaming dreams mortal dared dream before silence unbroken stillness token word spoken whispered word “lenore” whispered echo murmured word “lenore”— merely more chamber turning soul burning soon heard tapping somewhat louder before “surely” i “surely window lattice see then thereat is mystery explore— heart moment mystery explore— ’tis wind more” flung shutter when flirt flutter stepped stately raven saintly days yore obeisance he minute stopped stayed he but mien lord lady perched chamber door— perched bust pallas chamber door— perched sat more ebony bird beguiling sad fancy smiling grave stern decorum countenance wore “though thy crest shorn shaven thou” said “art craven ghastly grim ancient raven wandering nightly shore— tell thy lordly name night’s plutonian shore” quoth raven “nevermore” marvelled ungainly fowl hear discourse plainly answer little meaning—little relevancy bore help agreeing living human blessed seeing bird chamber door— bird beast sculptured bust chamber door name “nevermore” raven sitting lonely placid bust spoke word soul word outpour farther uttered—not feather fluttered— till scarcely muttered “other friends flown before— morrow leave me hopes flown before” bird “nevermore” startled stillness broken reply aptly spoken “doubtless” i “what utters stock store caught unhappy master whom unmerciful disaster followed fast followed faster till songs burden bore— till dirges hope melancholy burden bore ‘never—nevermore’” raven beguiling fancy smiling straight wheeled cushioned seat front bird bust door then velvet sinking betook linking fancy unto fancy thinking ominous bird yore— grim ungainly ghastly gaunt ominous bird yore meant croaking “nevermore” sat engaged guessing syllable expressing fowl fiery eyes burned bosom’s core sat divining head ease reclining cushion’s velvet lining lamplight gloated o’er velvetviolet lining lamplight gloating o’er press ah nevermore then methought air grew denser perfumed unseen censer swung seraphim footfalls tinkled tufted floor “wretch” cried “thy god hath lent thee—by angels hath sent thee respite—respite nepenthe thy memories lenore quaff oh quaff nepenthe forget lost lenore” quoth raven “nevermore” “prophet” i “thing evil—prophet still bird devil— tempter sent tempest tossed thee ashore desolate undaunted desert land enchanted— home horror haunted—tell truly implore— there—is balm gilead—tell me—tell me implore” quoth raven “nevermore” “prophet” i “thing evil—prophet still bird devil heaven bends us—by god adore— tell soul sorrow laden if distant aidenn clasp sainted maiden whom angels name lenore— clasp rare radiant maiden whom angels name lenore” quoth raven “nevermore” “be word sign parting bird fiend” shrieked upstarting— “get thee tempest night’s plutonian shore leave black plume token lie thy soul hath spoken leave loneliness unbroken—quit bust door thy beak heart thy form door” quoth raven “nevermore” raven flitting sitting sitting pallid bust pallas chamber door eyes demon’s dreaming lamplight o’er streaming throws shadow floor soul shadow lies floating floor lifted—nevermore'"
      ]
     },
     "execution_count": 67,
     "metadata": {},
     "output_type": "execute_result"
    }
   ],
   "source": [
    "stop_word_removal(poem,stop_words,string.punctuation)"
   ]
  },
  {
   "cell_type": "code",
   "execution_count": null,
   "id": "443f60fc-3b72-4ed8-b712-ef8d430ec2ee",
   "metadata": {},
   "outputs": [],
   "source": []
  }
 ],
 "metadata": {
  "kernelspec": {
   "display_name": "Python 3 (ipykernel)",
   "language": "python",
   "name": "python3"
  },
  "language_info": {
   "codemirror_mode": {
    "name": "ipython",
    "version": 3
   },
   "file_extension": ".py",
   "mimetype": "text/x-python",
   "name": "python",
   "nbconvert_exporter": "python",
   "pygments_lexer": "ipython3",
   "version": "3.10.12"
  }
 },
 "nbformat": 4,
 "nbformat_minor": 5
}
